{
 "cells": [
  {
   "cell_type": "markdown",
   "id": "d8d3f3c8-61c8-4254-8624-88e9d9b73d8c",
   "metadata": {},
   "source": [
    "# Housing Model - Multiple Factors"
   ]
  },
  {
   "cell_type": "code",
   "execution_count": 73,
   "id": "b3b15be9-899d-4a3a-bdad-f5dc1a025444",
   "metadata": {},
   "outputs": [],
   "source": [
    "import numpy as np\n",
    "import matplotlib.pyplot as plt\n",
    "from IPython.display import display, clear_output\n",
    "import random"
   ]
  },
  {
   "cell_type": "code",
   "execution_count": 75,
   "id": "00fc87ae-b45b-4299-a6f4-997c4ce19151",
   "metadata": {},
   "outputs": [],
   "source": [
    "# Parameters\n",
    "lambda_ = 0.7  # lambda parameter for updating house values\n",
    "n, m = 20, 20  # Grid size\n",
    "\n",
    "# Define affluence values for rich, middle, and poor\n",
    "affluence_levels = {\n",
    "    \"rich\": 1.0,\n",
    "    \"middle\": 0.5,\n",
    "    \"poor\": 0.1\n",
    "}\n",
    "\n",
    "# Probabilities of rich, middle and poor\n",
    "p = [0.1, 0.3, 0.6]\n",
    "\n",
    "# Radius of square neighbourhood\n",
    "r = 2"
   ]
  },
  {
   "cell_type": "code",
   "execution_count": 4,
   "id": "69b4682f-31f8-4a48-8eac-1ceb94312704",
   "metadata": {},
   "outputs": [],
   "source": [
    "def random_board(n, m, p):\n",
    "    \"\"\"\n",
    "    Initialize the grids with random affluence levels and house values.\n",
    "    \"\"\"\n",
    "    affluence_grid = np.random.choice([affluence_levels[\"rich\"], affluence_levels[\"middle\"], affluence_levels[\"poor\"]], size=(n, m), p=p)\n",
    "    house_grid = np.zeros((n, m))  # Start with all house values as 0\n",
    "    return affluence_grid, house_grid"
   ]
  },
  {
   "cell_type": "code",
   "execution_count": 17,
   "id": "02d69c56-4fde-44be-9be2-6ff97c09c865",
   "metadata": {},
   "outputs": [],
   "source": [
    "def calculate_neighborhood_average(house_grid, x, y, r):\n",
    "    \"\"\"\n",
    "    Calculate the average house value in the square neighborhood of radius r around (x, y).\n",
    "    \"\"\"\n",
    "    n, m = house_grid.shape    \n",
    "    neighborhood_sum = 0\n",
    "    count = 0\n",
    "    \n",
    "    x_min, y_min = max(0,x-r), max(0,y-r)\n",
    "    x_max, y_max = min(n,x+r), min(m,y+r)\n",
    "    \n",
    "    # Iterate over the neighborhood within the radius\n",
    "    for i in range(x_min, x_max):\n",
    "        for j in range(y_min, y_max):\n",
    "            # Add the neighbor's value to the sum\n",
    "            neighborhood_sum += house_grid[i, j]\n",
    "            count += 1\n",
    "\n",
    "    # Calculate the average value of the neighborhood\n",
    "    neighborhood_average = neighborhood_sum / count\n",
    "    return neighborhood_average"
   ]
  },
  {
   "cell_type": "code",
   "execution_count": 6,
   "id": "ffcd3333-4945-42bd-9b05-b57a39b3702a",
   "metadata": {},
   "outputs": [],
   "source": [
    "def update_values(affluence_grid, house_grid, lambda_):\n",
    "    \"\"\"\n",
    "    Update house values based on the affluence and neighborhood average.\n",
    "    \"\"\"\n",
    "    new_house_grid = np.zeros_like(house_grid)\n",
    "    n, m = house_grid.shape\n",
    "    for x in range(n):\n",
    "        for y in range(m):\n",
    "            affluence = affluence_grid[x, y]\n",
    "            neighborhood_avg = calculate_neighborhood_average(house_grid, x, y, r)\n",
    "            new_house_grid[x, y] = affluence + lambda_ * neighborhood_avg\n",
    "    return new_house_grid"
   ]
  },
  {
   "cell_type": "code",
   "execution_count": 7,
   "id": "6c9b70b8-70b0-457e-9779-b66a5d33b996",
   "metadata": {},
   "outputs": [],
   "source": [
    "def propose_swap(affluence_grid, house_grid):\n",
    "    \"\"\"\n",
    "    Calculate delta and swap agents if delta > 0.\n",
    "    \"\"\"\n",
    "    n, m = house_grid.shape\n",
    "    # Choose two random houses\n",
    "    x1, y1 = random.randint(0, n-1), random.randint(0, m-1)\n",
    "    x2, y2 = random.randint(0, n-1), random.randint(0, m-1)\n",
    "\n",
    "    A_x1, V_x1 = affluence_grid[x1, y1], house_grid[x1, y1]\n",
    "    A_x2, V_x2 = affluence_grid[x2, y2], house_grid[x2, y2]\n",
    "    \n",
    "    delta = (A_x1 - V_x1)**2 + (A_x2 - V_x2)**2 - (A_x1 - V_x2)**2 - (A_x2 - V_x1)**2\n",
    "    \n",
    "    if delta > 0:\n",
    "        # Swap the affluence levels of the two agents\n",
    "        affluence_grid[x1, y1], affluence_grid[x2, y2] = A_x2, A_x1\n",
    "        house_grid[x1, y1], house_grid[x2, y2] = V_x2, V_x1"
   ]
  },
  {
   "cell_type": "code",
   "execution_count": 71,
   "id": "d5861726-4b8f-4294-be20-0d1b969a8afd",
   "metadata": {},
   "outputs": [
    {
     "data": {
      "image/png": "[encoded data removed]",
      "text/plain": [
       "<Figure size 640x480 with 2 Axes>"
      ]
     },
     "metadata": {},
     "output_type": "display_data"
    }
   ],
   "source": [
    "# Simulation parameters\n",
    "n_steps = 100\n",
    "affluence_grid, house_grid = random_board(n, m, p)\n",
    "\n",
    "fig, ax = plt.subplots()\n",
    "fig.suptitle('Step 0')\n",
    "img = plt.imshow(house_grid, cmap='viridis',vmin=0, vmax=3)\n",
    "\n",
    "cbar = fig.colorbar(img, ax=ax)\n",
    "cbar.set_label('House Price')\n",
    "\n",
    "\n",
    "# Simulation loop\n",
    "for step in range(n_steps):\n",
    "    # Update house values\n",
    "    house_grid = update_values(affluence_grid, house_grid, lambda_)\n",
    "    \n",
    "    # Propose random move - several in each step\n",
    "    for i in range(10):\n",
    "        propose_swap(affluence_grid, house_grid)\n",
    "\n",
    "    img.set_array(house_grid)\n",
    "    fig.suptitle(f\"Step {step}\")\n",
    "    plt.pause(0.1)\n",
    "    clear_output(wait=True)\n",
    "    display(fig)"
   ]
  },
  {
   "cell_type": "code",
   "execution_count": null,
   "id": "f9c3f8cf-7f97-4293-bc62-b6b35801dbbe",
   "metadata": {},
   "outputs": [],
   "source": []
  }
 ],
 "metadata": {
  "kernelspec": {
   "display_name": "Python 3 (ipykernel)",
   "language": "python",
   "name": "python3"
  },
  "language_info": {
   "codemirror_mode": {
    "name": "ipython",
    "version": 3
   },
   "file_extension": ".py",
   "mimetype": "text/x-python",
   "name": "python",
   "nbconvert_exporter": "python",
   "pygments_lexer": "ipython3",
   "version": "3.12.4"
  }
 },
 "nbformat": 4,
 "nbformat_minor": 5
}

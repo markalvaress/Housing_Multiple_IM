{
 "cells": [
  {
   "cell_type": "code",
   "execution_count": 10,
   "metadata": {},
   "outputs": [],
   "source": [
    "import numpy as np\n",
    "import matplotlib.pyplot as plt\n",
    "from IPython.display import display, clear_output"
   ]
  },
  {
   "cell_type": "code",
   "execution_count": 2,
   "metadata": {},
   "outputs": [],
   "source": [
    "def get_nbhd_proportion(grid, row, col, radius, target_number):\n",
    "    \"\"\"target_number is the group I want to get the proportion of, so if I set this to 2 it will tell me the proportion of twos around me.\n",
    "    Returns 0 if the neighbourhood is completely empty (maybe change?).\"\"\"\n",
    "    m, n = grid.shape\n",
    "    num_in_nbhd = 0\n",
    "    num_target_colour = 0\n",
    "    \n",
    "    # be careful with edges\n",
    "    row_min = max(row - radius, 0)\n",
    "    row_max = min(row + radius, m-1)\n",
    "    col_min = max(col - radius, 0)\n",
    "    col_max = min(col + radius, n-1)\n",
    "\n",
    "    for r in range(row_min, row_max + 1):\n",
    "        for c in range(col_min, col_max + 1):\n",
    "            if grid[r,c] != 0:\n",
    "                num_in_nbhd += 1\n",
    "                if grid[r,c] == target_number:\n",
    "                    num_target_colour += 1\n",
    "\n",
    "    if num_in_nbhd != 0:\n",
    "        return num_target_colour / num_in_nbhd\n",
    "    else:\n",
    "        return 0\n",
    "    "
   ]
  },
  {
   "cell_type": "code",
   "execution_count": null,
   "metadata": {},
   "outputs": [],
   "source": [
    "def other_colour(x):\n",
    "    if x == 1:\n",
    "        return 2\n",
    "    elif x == 2:\n",
    "        return 1\n",
    "    else:\n",
    "        return None"
   ]
  },
  {
   "cell_type": "code",
   "execution_count": 34,
   "metadata": {},
   "outputs": [],
   "source": [
    "def one_step(housing_grid, tolerances, radius):\n",
    "    \"\"\"housing_grid is changed in place so we don't return anything.\"\"\"\n",
    "    m, n = housing_grid.shape\n",
    "    discontents = []\n",
    "\n",
    "    # step 1: find discontents\n",
    "    for r in range(m):\n",
    "        for c in range(n):\n",
    "            current_colour = housing_grid[r,c]\n",
    "            if current_colour in [1,2]:\n",
    "                prop_mycolour = get_nbhd_proportion(housing_grid, r, c, radius, current_colour)\n",
    "                if prop_mycolour < tolerances[current_colour]: discontents.append([r,c,current_colour])\n",
    "\n",
    "    # step 2: try and move the discontents\n",
    "    for i, agent in enumerate(discontents):\n",
    "        # check if they're still discontent (necessary for everyone after the first)\n",
    "        still_discontent = (get_nbhd_proportion(housing_grid, r, c, radius, current_colour) < tolerances[agent[2]]) \n",
    "        break_outer = False\n",
    "\n",
    "        if still_discontent:\n",
    "            for r in range(m):\n",
    "                for c in range(n):\n",
    "                    # only check empty grid cells\n",
    "                    if housing_grid[r,c] == 0:\n",
    "                        meets_demands = (get_nbhd_proportion(housing_grid, r, c, radius, agent[2]) >= tolerances[agent[2]])\n",
    "                        if meets_demands:\n",
    "                            housing_grid[r,c] = agent[2]\n",
    "                            housing_grid[agent[0], agent[1]] = 0\n",
    "                            print(f\"Agent number {i} moved\")\n",
    "                            break_outer = True\n",
    "                            break\n",
    "\n",
    "                if break_outer: break\n",
    "\n",
    "    return"
   ]
  },
  {
   "cell_type": "code",
   "execution_count": 21,
   "metadata": {},
   "outputs": [
    {
     "data": {
      "text/plain": [
       "0"
      ]
     },
     "execution_count": 21,
     "metadata": {},
     "output_type": "execute_result"
    }
   ],
   "source": [
    "housing_grid[7,40]"
   ]
  },
  {
   "cell_type": "code",
   "execution_count": 20,
   "metadata": {},
   "outputs": [
    {
     "data": {
      "text/plain": [
       "0.5571428571428572"
      ]
     },
     "execution_count": 20,
     "metadata": {},
     "output_type": "execute_result"
    }
   ],
   "source": [
    "get_nbhd_proportion(housing_grid, 7, 40, 4, 1)"
   ]
  },
  {
   "cell_type": "code",
   "execution_count": 32,
   "metadata": {},
   "outputs": [],
   "source": [
    "# initialise grid of houses\n",
    "n = 50\n",
    "m = 50\n",
    "\n",
    "# let 2 = red, 1 = blue, 0 = empty\n",
    "housing_grid = np.random.choice([2, 1, 0], size=(m, n), p=[0.4, 0.4, 0.2])"
   ]
  },
  {
   "cell_type": "code",
   "execution_count": null,
   "metadata": {},
   "outputs": [
    {
     "data": {
      "image/png": "[encoded data removed]",
      "text/plain": [
       "<Figure size 640x480 with 2 Axes>"
      ]
     },
     "metadata": {},
     "output_type": "display_data"
    }
   ],
   "source": [
    "# everyone's moving to the top left because that's where the search for a new house starts\n",
    "from matplotlib import colors\n",
    "\n",
    "cmap = colors.ListedColormap(['white', 'red', 'blue'])\n",
    "\n",
    "tolerances = {1: 0.5, 2: 0.5}\n",
    "radius = 4\n",
    "n_steps = 100\n",
    "\n",
    "fig, ax = plt.subplots()\n",
    "fig.suptitle('Step 0')\n",
    "img = plt.imshow(housing_grid, cmap=cmap)\n",
    "\n",
    "cbar = fig.colorbar(img, ax=ax)\n",
    "cbar.set_label('Occupancy characteristic')\n",
    "\n",
    "for n in range(n_steps):\n",
    "    one_step(housing_grid, tolerances, radius)\n",
    "\n",
    "    img.set_array(housing_grid)\n",
    "    fig.suptitle(f\"Step {n}\")\n",
    "    plt.pause(0.1)\n",
    "    clear_output(wait=True)\n",
    "    display(fig)\n"
   ]
  }
 ],
 "metadata": {
  "kernelspec": {
   "display_name": "Python 3",
   "language": "python",
   "name": "python3"
  },
  "language_info": {
   "codemirror_mode": {
    "name": "ipython",
    "version": 3
   },
   "file_extension": ".py",
   "mimetype": "text/x-python",
   "name": "python",
   "nbconvert_exporter": "python",
   "pygments_lexer": "ipython3",
   "version": "3.11.4"
  }
 },
 "nbformat": 4,
 "nbformat_minor": 2
}
